{
 "cells": [
  {
   "cell_type": "markdown",
   "id": "ba89cf8f",
   "metadata": {},
   "source": [
    "# Feature Engineering"
   ]
  },
  {
   "cell_type": "code",
   "execution_count": 1,
   "id": "aaef051e",
   "metadata": {},
   "outputs": [],
   "source": [
    "# Take the first n numbers from the upc as a string\n",
    "# Take the upc length as a string\n",
    "# Make departments all separate features and count the number of items purchased under each department\n",
    "# Make broader departments such as Clothing for all Clothing\n",
    "# Weekend vs Weekday indicator (1 and 0)\n",
    "# Make null a binary indicator (1 and 0)\n",
    "# Replace upc null with \"no_upc\"\n",
    "# Replace finelinenumber null with \"no_fineline\"\n",
    "# Ratio of total_scancount / num_unique_upc = avg_scancount_per_upc\n",
    "# Ratio of total_scancount / num_unique_dept = avg_scancount_per_dept\n",
    "# Ratio of num_unique_fineline / num_unique_dept = fineline_to_dept_ratio\n",
    "# Ratio of num_unique_upc / num_unique_fineline = avg_upc_per_fineline (maybe)\n",
    "# Ratio of num_unique_upc / num_unique_dept = avg_upc_per_dept"
   ]
  },
  {
   "cell_type": "code",
   "execution_count": null,
   "id": "cb040aff",
   "metadata": {},
   "outputs": [],
   "source": []
  }
 ],
 "metadata": {
  "kernelspec": {
   "display_name": ".venv",
   "language": "python",
   "name": "python3"
  },
  "language_info": {
   "codemirror_mode": {
    "name": "ipython",
    "version": 3
   },
   "file_extension": ".py",
   "mimetype": "text/x-python",
   "name": "python",
   "nbconvert_exporter": "python",
   "pygments_lexer": "ipython3",
   "version": "3.12.9"
  }
 },
 "nbformat": 4,
 "nbformat_minor": 5
}
