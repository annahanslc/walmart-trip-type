{
 "cells": [
  {
   "cell_type": "code",
   "execution_count": null,
   "id": "aaef051e",
   "metadata": {},
   "outputs": [],
   "source": [
    "# Take the first n numbers from the upc as a string\n",
    "# Take the upc length as a string\n",
    "# Make departments all separate features and count the number of items purchased under each department\n",
    "# Make broader departments such as Clothing for all Clothing\n",
    "# Weekend vs Weekday indicator (1 and 0)\n",
    "# Make null a binary indicator (1 and 0)\n",
    "# Replace upc null with \"no_upc\"\n",
    "# Replace finelinenumber null with \"no_fineline\""
   ]
  }
 ],
 "metadata": {
  "language_info": {
   "name": "python"
  }
 },
 "nbformat": 4,
 "nbformat_minor": 5
}
